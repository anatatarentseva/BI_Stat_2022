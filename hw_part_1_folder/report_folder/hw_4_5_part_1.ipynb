{
  "nbformat": 4,
  "nbformat_minor": 0,
  "metadata": {
    "colab": {
      "provenance": []
    },
    "kernelspec": {
      "name": "python3",
      "display_name": "Python 3"
    },
    "language_info": {
      "name": "python"
    }
  },
  "cells": [
    {
      "cell_type": "markdown",
      "source": [
        "Step 0.1. Подгружаем библиотеки"
      ],
      "metadata": {
        "id": "dw-FXS3ZO6bQ"
      }
    },
    {
      "cell_type": "code",
      "source": [
        "import pandas as pd\n",
        "import seaborn as sns\n",
        "import matplotlib.pyplot as plt\n",
        "import numpy as np"
      ],
      "metadata": {
        "id": "Y9ZJhIOlN1bt"
      },
      "execution_count": 9,
      "outputs": []
    },
    {
      "cell_type": "markdown",
      "source": [
        "Step 0.2. Подгружаем данные \n",
        "в переменную data_path указать ссылку на вашу директорию"
      ],
      "metadata": {
        "id": "G0-ihYvdN9L-"
      }
    },
    {
      "cell_type": "code",
      "source": [
        "data_path = \"/content/drive/MyDrive/Colab Notebooks\"\n",
        "expression_data = pd.read_csv(f\"{data_path}/homework_lecture_5_data.csv\", index_col=0)\n",
        "expression_data.head()"
      ],
      "metadata": {
        "colab": {
          "base_uri": "https://localhost:8080/",
          "height": 300
        },
        "id": "270vQWJ6OEej",
        "outputId": "05762f50-e3ab-4abf-c1c4-1d67de2e1f42"
      },
      "execution_count": 10,
      "outputs": [
        {
          "output_type": "execute_result",
          "data": {
            "text/plain": [
              "       TMCC1     RANBP3    GABRG3    ARRDC5       LRP3      TIMM23      TBPL1  \\\n",
              "0  33.888550  38.384340  0.044721  1.385159  11.341853  105.193306  26.463990   \n",
              "1  16.497124  35.054090  0.314645  4.329797   8.649321   50.577618  16.684614   \n",
              "2   5.449933  31.783958  0.002949  2.137536   1.750892  109.201050  35.265984   \n",
              "3  33.362240  56.147026  0.037295  1.604904   6.807299  100.141620  25.446817   \n",
              "4  50.188510  30.165264  0.039678  1.501439   1.619954   46.916790  28.053373   \n",
              "\n",
              "      BIRC8     TTC28   C19orf66  ...     MAGEA6       IL4I1     LCN12  \\\n",
              "0  0.000000  1.537873  27.645407  ...  21.332443    1.397932  0.000000   \n",
              "1  0.000000  1.796609  13.715611  ...   1.199440  159.147130  0.259244   \n",
              "2  0.011501  0.878889  19.361662  ...   0.002924   25.256378  0.000000   \n",
              "3  0.000000  2.502661  12.745437  ...   0.000000   14.509516  0.063003   \n",
              "4  0.018181  1.165164  30.318027  ...   0.033807   93.681190  0.031816   \n",
              "\n",
              "        SMG6  C1orf100      WDR75    ZBTB26    SPTY2D1    PLEKHA2  Cell_type  \n",
              "0  23.136585  0.001902  60.218548  6.307399   9.577274  44.026940     B_cell  \n",
              "1  18.986986  0.310971  25.818224  4.193348  14.181196  35.779896     B_cell  \n",
              "2  32.941895  0.000000  99.555990  8.323141  29.321960  30.816538     B_cell  \n",
              "3  19.036896  0.000000  49.394980  4.655794  17.683067  47.143270     B_cell  \n",
              "4  19.094831  0.000000  20.201437  6.935232  20.769829  53.935143     B_cell  \n",
              "\n",
              "[5 rows x 18793 columns]"
            ],
            "text/html": [
              "\n",
              "  <div id=\"df-b1841074-5653-41bb-b175-2ca1fe210057\">\n",
              "    <div class=\"colab-df-container\">\n",
              "      <div>\n",
              "<style scoped>\n",
              "    .dataframe tbody tr th:only-of-type {\n",
              "        vertical-align: middle;\n",
              "    }\n",
              "\n",
              "    .dataframe tbody tr th {\n",
              "        vertical-align: top;\n",
              "    }\n",
              "\n",
              "    .dataframe thead th {\n",
              "        text-align: right;\n",
              "    }\n",
              "</style>\n",
              "<table border=\"1\" class=\"dataframe\">\n",
              "  <thead>\n",
              "    <tr style=\"text-align: right;\">\n",
              "      <th></th>\n",
              "      <th>TMCC1</th>\n",
              "      <th>RANBP3</th>\n",
              "      <th>GABRG3</th>\n",
              "      <th>ARRDC5</th>\n",
              "      <th>LRP3</th>\n",
              "      <th>TIMM23</th>\n",
              "      <th>TBPL1</th>\n",
              "      <th>BIRC8</th>\n",
              "      <th>TTC28</th>\n",
              "      <th>C19orf66</th>\n",
              "      <th>...</th>\n",
              "      <th>MAGEA6</th>\n",
              "      <th>IL4I1</th>\n",
              "      <th>LCN12</th>\n",
              "      <th>SMG6</th>\n",
              "      <th>C1orf100</th>\n",
              "      <th>WDR75</th>\n",
              "      <th>ZBTB26</th>\n",
              "      <th>SPTY2D1</th>\n",
              "      <th>PLEKHA2</th>\n",
              "      <th>Cell_type</th>\n",
              "    </tr>\n",
              "  </thead>\n",
              "  <tbody>\n",
              "    <tr>\n",
              "      <th>0</th>\n",
              "      <td>33.888550</td>\n",
              "      <td>38.384340</td>\n",
              "      <td>0.044721</td>\n",
              "      <td>1.385159</td>\n",
              "      <td>11.341853</td>\n",
              "      <td>105.193306</td>\n",
              "      <td>26.463990</td>\n",
              "      <td>0.000000</td>\n",
              "      <td>1.537873</td>\n",
              "      <td>27.645407</td>\n",
              "      <td>...</td>\n",
              "      <td>21.332443</td>\n",
              "      <td>1.397932</td>\n",
              "      <td>0.000000</td>\n",
              "      <td>23.136585</td>\n",
              "      <td>0.001902</td>\n",
              "      <td>60.218548</td>\n",
              "      <td>6.307399</td>\n",
              "      <td>9.577274</td>\n",
              "      <td>44.026940</td>\n",
              "      <td>B_cell</td>\n",
              "    </tr>\n",
              "    <tr>\n",
              "      <th>1</th>\n",
              "      <td>16.497124</td>\n",
              "      <td>35.054090</td>\n",
              "      <td>0.314645</td>\n",
              "      <td>4.329797</td>\n",
              "      <td>8.649321</td>\n",
              "      <td>50.577618</td>\n",
              "      <td>16.684614</td>\n",
              "      <td>0.000000</td>\n",
              "      <td>1.796609</td>\n",
              "      <td>13.715611</td>\n",
              "      <td>...</td>\n",
              "      <td>1.199440</td>\n",
              "      <td>159.147130</td>\n",
              "      <td>0.259244</td>\n",
              "      <td>18.986986</td>\n",
              "      <td>0.310971</td>\n",
              "      <td>25.818224</td>\n",
              "      <td>4.193348</td>\n",
              "      <td>14.181196</td>\n",
              "      <td>35.779896</td>\n",
              "      <td>B_cell</td>\n",
              "    </tr>\n",
              "    <tr>\n",
              "      <th>2</th>\n",
              "      <td>5.449933</td>\n",
              "      <td>31.783958</td>\n",
              "      <td>0.002949</td>\n",
              "      <td>2.137536</td>\n",
              "      <td>1.750892</td>\n",
              "      <td>109.201050</td>\n",
              "      <td>35.265984</td>\n",
              "      <td>0.011501</td>\n",
              "      <td>0.878889</td>\n",
              "      <td>19.361662</td>\n",
              "      <td>...</td>\n",
              "      <td>0.002924</td>\n",
              "      <td>25.256378</td>\n",
              "      <td>0.000000</td>\n",
              "      <td>32.941895</td>\n",
              "      <td>0.000000</td>\n",
              "      <td>99.555990</td>\n",
              "      <td>8.323141</td>\n",
              "      <td>29.321960</td>\n",
              "      <td>30.816538</td>\n",
              "      <td>B_cell</td>\n",
              "    </tr>\n",
              "    <tr>\n",
              "      <th>3</th>\n",
              "      <td>33.362240</td>\n",
              "      <td>56.147026</td>\n",
              "      <td>0.037295</td>\n",
              "      <td>1.604904</td>\n",
              "      <td>6.807299</td>\n",
              "      <td>100.141620</td>\n",
              "      <td>25.446817</td>\n",
              "      <td>0.000000</td>\n",
              "      <td>2.502661</td>\n",
              "      <td>12.745437</td>\n",
              "      <td>...</td>\n",
              "      <td>0.000000</td>\n",
              "      <td>14.509516</td>\n",
              "      <td>0.063003</td>\n",
              "      <td>19.036896</td>\n",
              "      <td>0.000000</td>\n",
              "      <td>49.394980</td>\n",
              "      <td>4.655794</td>\n",
              "      <td>17.683067</td>\n",
              "      <td>47.143270</td>\n",
              "      <td>B_cell</td>\n",
              "    </tr>\n",
              "    <tr>\n",
              "      <th>4</th>\n",
              "      <td>50.188510</td>\n",
              "      <td>30.165264</td>\n",
              "      <td>0.039678</td>\n",
              "      <td>1.501439</td>\n",
              "      <td>1.619954</td>\n",
              "      <td>46.916790</td>\n",
              "      <td>28.053373</td>\n",
              "      <td>0.018181</td>\n",
              "      <td>1.165164</td>\n",
              "      <td>30.318027</td>\n",
              "      <td>...</td>\n",
              "      <td>0.033807</td>\n",
              "      <td>93.681190</td>\n",
              "      <td>0.031816</td>\n",
              "      <td>19.094831</td>\n",
              "      <td>0.000000</td>\n",
              "      <td>20.201437</td>\n",
              "      <td>6.935232</td>\n",
              "      <td>20.769829</td>\n",
              "      <td>53.935143</td>\n",
              "      <td>B_cell</td>\n",
              "    </tr>\n",
              "  </tbody>\n",
              "</table>\n",
              "<p>5 rows × 18793 columns</p>\n",
              "</div>\n",
              "      <button class=\"colab-df-convert\" onclick=\"convertToInteractive('df-b1841074-5653-41bb-b175-2ca1fe210057')\"\n",
              "              title=\"Convert this dataframe to an interactive table.\"\n",
              "              style=\"display:none;\">\n",
              "        \n",
              "  <svg xmlns=\"http://www.w3.org/2000/svg\" height=\"24px\"viewBox=\"0 0 24 24\"\n",
              "       width=\"24px\">\n",
              "    <path d=\"M0 0h24v24H0V0z\" fill=\"none\"/>\n",
              "    <path d=\"M18.56 5.44l.94 2.06.94-2.06 2.06-.94-2.06-.94-.94-2.06-.94 2.06-2.06.94zm-11 1L8.5 8.5l.94-2.06 2.06-.94-2.06-.94L8.5 2.5l-.94 2.06-2.06.94zm10 10l.94 2.06.94-2.06 2.06-.94-2.06-.94-.94-2.06-.94 2.06-2.06.94z\"/><path d=\"M17.41 7.96l-1.37-1.37c-.4-.4-.92-.59-1.43-.59-.52 0-1.04.2-1.43.59L10.3 9.45l-7.72 7.72c-.78.78-.78 2.05 0 2.83L4 21.41c.39.39.9.59 1.41.59.51 0 1.02-.2 1.41-.59l7.78-7.78 2.81-2.81c.8-.78.8-2.07 0-2.86zM5.41 20L4 18.59l7.72-7.72 1.47 1.35L5.41 20z\"/>\n",
              "  </svg>\n",
              "      </button>\n",
              "      \n",
              "  <style>\n",
              "    .colab-df-container {\n",
              "      display:flex;\n",
              "      flex-wrap:wrap;\n",
              "      gap: 12px;\n",
              "    }\n",
              "\n",
              "    .colab-df-convert {\n",
              "      background-color: #E8F0FE;\n",
              "      border: none;\n",
              "      border-radius: 50%;\n",
              "      cursor: pointer;\n",
              "      display: none;\n",
              "      fill: #1967D2;\n",
              "      height: 32px;\n",
              "      padding: 0 0 0 0;\n",
              "      width: 32px;\n",
              "    }\n",
              "\n",
              "    .colab-df-convert:hover {\n",
              "      background-color: #E2EBFA;\n",
              "      box-shadow: 0px 1px 2px rgba(60, 64, 67, 0.3), 0px 1px 3px 1px rgba(60, 64, 67, 0.15);\n",
              "      fill: #174EA6;\n",
              "    }\n",
              "\n",
              "    [theme=dark] .colab-df-convert {\n",
              "      background-color: #3B4455;\n",
              "      fill: #D2E3FC;\n",
              "    }\n",
              "\n",
              "    [theme=dark] .colab-df-convert:hover {\n",
              "      background-color: #434B5C;\n",
              "      box-shadow: 0px 1px 3px 1px rgba(0, 0, 0, 0.15);\n",
              "      filter: drop-shadow(0px 1px 2px rgba(0, 0, 0, 0.3));\n",
              "      fill: #FFFFFF;\n",
              "    }\n",
              "  </style>\n",
              "\n",
              "      <script>\n",
              "        const buttonEl =\n",
              "          document.querySelector('#df-b1841074-5653-41bb-b175-2ca1fe210057 button.colab-df-convert');\n",
              "        buttonEl.style.display =\n",
              "          google.colab.kernel.accessAllowed ? 'block' : 'none';\n",
              "\n",
              "        async function convertToInteractive(key) {\n",
              "          const element = document.querySelector('#df-b1841074-5653-41bb-b175-2ca1fe210057');\n",
              "          const dataTable =\n",
              "            await google.colab.kernel.invokeFunction('convertToInteractive',\n",
              "                                                     [key], {});\n",
              "          if (!dataTable) return;\n",
              "\n",
              "          const docLinkHtml = 'Like what you see? Visit the ' +\n",
              "            '<a target=\"_blank\" href=https://colab.research.google.com/notebooks/data_table.ipynb>data table notebook</a>'\n",
              "            + ' to learn more about interactive tables.';\n",
              "          element.innerHTML = '';\n",
              "          dataTable['output_type'] = 'display_data';\n",
              "          await google.colab.output.renderOutput(dataTable, element);\n",
              "          const docLink = document.createElement('div');\n",
              "          docLink.innerHTML = docLinkHtml;\n",
              "          element.appendChild(docLink);\n",
              "        }\n",
              "      </script>\n",
              "    </div>\n",
              "  </div>\n",
              "  "
            ]
          },
          "metadata": {},
          "execution_count": 10
        }
      ]
    },
    {
      "cell_type": "markdown",
      "source": [
        "Step 0.3.  Создаём переменные для клеточных типов: B-клетки и NK-клетки"
      ],
      "metadata": {
        "id": "BQdtEBS9OWd4"
      }
    },
    {
      "cell_type": "code",
      "source": [
        "b_cells_expression_data = expression_data.query(\"Cell_type == 'B_cell'\")\n",
        "nk_cells_expression_data = expression_data.query(\"Cell_type == 'NK_cell'\")"
      ],
      "metadata": {
        "id": "8NdA6TcrOU30"
      },
      "execution_count": 12,
      "outputs": []
    },
    {
      "cell_type": "code",
      "source": [
        "example_gene = \"TMCC1\""
      ],
      "metadata": {
        "id": "0eZAAcO7_9Su"
      },
      "execution_count": 14,
      "outputs": []
    },
    {
      "cell_type": "markdown",
      "source": [
        "# Step 1."
      ],
      "metadata": {
        "id": "gLdjo8oaNyvm"
      }
    },
    {
      "cell_type": "markdown",
      "source": [
        "Функция, которая будет принимает на вход экспрессии гена, семплирует из них выборки размера sample_size, считает среднюю экспрессию и повторяет это n_samples раз:"
      ],
      "metadata": {
        "id": "ppOMtZBpPNxm"
      }
    },
    {
      "cell_type": "code",
      "source": [
        "def demonstrate_clt(expressions, sample_size, n_samples):\n",
        "    mean_expressions = [expressions[i*sample_size: (i+1)*sample_size].sum()/n_samples for i in range(n_samples)]\n",
        "\n",
        "    return mean_expressions\n",
        "\n",
        "b_mean = demonstrate_clt(b_cells_expression_data[example_gene], 100, 100)\n",
        "nk_mean = demonstrate_clt(nk_cells_expression_data[example_gene], 100, 100)"
      ],
      "metadata": {
        "id": "2Xx2dx2DO2Vj"
      },
      "execution_count": 15,
      "outputs": []
    },
    {
      "cell_type": "markdown",
      "source": [
        "Применили функцию к экспрессиям гена TMCC1 в обоих клеточных типах, визуализировали. Средние экспрессии данного гена у этих клеточных типов отличаются."
      ],
      "metadata": {
        "id": "TrcKzqTgoDwF"
      }
    },
    {
      "cell_type": "code",
      "source": [
        "sns.histplot(b_mean, stat=\"density\");"
      ],
      "metadata": {
        "colab": {
          "base_uri": "https://localhost:8080/",
          "height": 265
        },
        "id": "Y-vSbvaYn1pG",
        "outputId": "95ab934c-5cdf-4710-ddef-ea1d968a5ace"
      },
      "execution_count": 16,
      "outputs": [
        {
          "output_type": "display_data",
          "data": {
            "text/plain": [
              "<Figure size 432x288 with 1 Axes>"
            ],
            "image/png": "[encoded data removed]"
          },
          "metadata": {
            "needs_background": "light"
          }
        }
      ]
    },
    {
      "cell_type": "code",
      "source": [
        "sns.histplot(nk_mean, stat=\"density\");"
      ],
      "metadata": {
        "colab": {
          "base_uri": "https://localhost:8080/",
          "height": 265
        },
        "id": "P9NoqGIon29C",
        "outputId": "036640ce-559b-4e90-9c16-ace5e559410f"
      },
      "execution_count": 17,
      "outputs": [
        {
          "output_type": "display_data",
          "data": {
            "text/plain": [
              "<Figure size 432x288 with 1 Axes>"
            ],
            "image/png": "[encoded data removed]"
          },
          "metadata": {
            "needs_background": "light"
          }
        }
      ]
    },
    {
      "cell_type": "markdown",
      "source": [
        "Посчитайтаем 95% доверительных интервалов для обоих распределений:"
      ],
      "metadata": {
        "id": "aUB1hiZF7syf"
      }
    },
    {
      "cell_type": "code",
      "source": [
        "b_m = b_cells_expression_data[example_gene].sum()/len(b_cells_expression_data[example_gene])\n",
        "nk_m = nk_cells_expression_data[example_gene].sum()/len(nk_cells_expression_data[example_gene])\n",
        "\n",
        "print(b_m)\n",
        "print(nk_m)"
      ],
      "metadata": {
        "colab": {
          "base_uri": "https://localhost:8080/"
        },
        "id": "IYIBPwop71RF",
        "outputId": "0b94a2d1-72b7-4a36-a8a6-fa8494283b65"
      },
      "execution_count": 18,
      "outputs": [
        {
          "output_type": "stream",
          "name": "stdout",
          "text": [
            "26.978971829200002\n",
            "30.4313196004\n"
          ]
        }
      ]
    },
    {
      "cell_type": "code",
      "source": [
        "import math\n",
        "\n",
        "b_sd = math.sqrt(b_cells_expression_data[example_gene].var(ddof = 1))\n",
        "nk_sd = math.sqrt(nk_cells_expression_data[example_gene].var(ddof = 1))\n",
        "\n",
        "print(b_sd)\n",
        "print(nk_sd)"
      ],
      "metadata": {
        "colab": {
          "base_uri": "https://localhost:8080/"
        },
        "id": "Ne7jM9FD75Ed",
        "outputId": "4e74bbee-485b-47b0-fbb1-445312004a0d"
      },
      "execution_count": 19,
      "outputs": [
        {
          "output_type": "stream",
          "name": "stdout",
          "text": [
            "40.5017332409003\n",
            "40.80350349863318\n"
          ]
        }
      ]
    },
    {
      "cell_type": "code",
      "source": [
        "b_z = b_sd/math.sqrt(len(b_cells_expression_data[example_gene]))*1.96\n",
        "print(b_z)\n",
        "\n",
        "b_95_int = [b_m-b_z, b_m+b_z]\n",
        "print(b_95_int)"
      ],
      "metadata": {
        "colab": {
          "base_uri": "https://localhost:8080/"
        },
        "id": "QUGDZM0Y77WX",
        "outputId": "423ca4e6-8fa7-4cc4-be9b-c1b5fb25d499"
      },
      "execution_count": 20,
      "outputs": [
        {
          "output_type": "stream",
          "name": "stdout",
          "text": [
            "3.5501334463420644\n",
            "[23.42883838285794, 30.529105275542065]\n"
          ]
        }
      ]
    },
    {
      "cell_type": "code",
      "source": [
        "nk_z = nk_sd/math.sqrt(len(nk_cells_expression_data[example_gene]))*1.96\n",
        "print(nk_z)\n",
        "\n",
        "nk_95_int = [nk_m-nk_z, nk_m+nk_z]\n",
        "print(nk_95_int)"
      ],
      "metadata": {
        "colab": {
          "base_uri": "https://localhost:8080/"
        },
        "id": "F7m65aej8BJZ",
        "outputId": "dc638096-9804-4aaa-bdcc-be7b4627d622"
      },
      "execution_count": 21,
      "outputs": [
        {
          "output_type": "stream",
          "name": "stdout",
          "text": [
            "3.5765847756892954\n",
            "[26.854734824710704, 34.00790437608929]\n"
          ]
        }
      ]
    },
    {
      "cell_type": "markdown",
      "source": [
        "# Step 2"
      ],
      "metadata": {
        "id": "-UjfaleD8CTW"
      }
    },
    {
      "cell_type": "code",
      "source": [
        "import scipy.stats as st"
      ],
      "metadata": {
        "id": "vNgWCF_08Yp2"
      },
      "execution_count": 22,
      "outputs": []
    },
    {
      "cell_type": "markdown",
      "source": [
        "Функция для проверки того, что доверительные интервалы пересекаются:"
      ],
      "metadata": {
        "id": "ykRENGNo8Mgz"
      }
    },
    {
      "cell_type": "code",
      "source": [
        "def check_intervals_intersect(first_ci, second_ci):\n",
        "  are_intersect = False\n",
        "  if (second_ci[0] >= first_ci[0] and second_ci[0]<= first_ci[1] or first_ci[0] >= second_ci[0] and first_ci[0]<= second_ci[1]):\n",
        "    are_intersect = True\n",
        "  return are_intersect"
      ],
      "metadata": {
        "id": "ne6AQ7T0-Fhd"
      },
      "execution_count": 23,
      "outputs": []
    },
    {
      "cell_type": "markdown",
      "source": [
        "Считаем доверительные интервалы в обоих клеточных типах, они пересекаются"
      ],
      "metadata": {
        "id": "o8DMjan5-MzU"
      }
    },
    {
      "cell_type": "code",
      "source": [
        "print(check_intervals_intersect(nk_95_int, b_95_int))"
      ],
      "metadata": {
        "colab": {
          "base_uri": "https://localhost:8080/"
        },
        "id": "FVTWRpMt-IXM",
        "outputId": "31badf89-ccc3-4121-e211-9d0e33752e18"
      },
      "execution_count": 24,
      "outputs": [
        {
          "output_type": "stream",
          "name": "stdout",
          "text": [
            "True\n"
          ]
        }
      ]
    },
    {
      "cell_type": "markdown",
      "source": [
        "Функция, которая будет принимать на вход две таблицы с экспрессиями и выдаёт для каждого гена, значимо ли отличается его средняя экспрессия между клеточными типами"
      ],
      "metadata": {
        "id": "X60zMLmC-X1Y"
      }
    },
    {
      "cell_type": "code",
      "source": [
        "def check_dge_with_ci(first_table, second_table): \n",
        "  ci_test_result = []\n",
        "  for col in first_table:\n",
        "    first_int = st.t.interval(alpha=0.95, # 95% доверительный интервал\n",
        "              df=len(first_table[col]) - 1, # число степеней свободы - 1\n",
        "              loc=np.mean(first_table[col]), # Среднее\n",
        "              scale=st.sem(first_table[col])) # Стандартная ошибка среднего\n",
        "    second_int = st.t.interval(alpha=0.95, # 95% доверительный интервал\n",
        "              df=len(second_table[col]) - 1, # число степеней свободы - 1\n",
        "              loc=np.mean(second_table[col]), # Среднее\n",
        "              scale=st.sem(second_table[col])) # Стандартная ошибка среднего\n",
        "    ci_test_result.append(check_intervals_intersect(first_int, second_int))\n",
        "  return ci_test_result"
      ],
      "metadata": {
        "id": "GCE2nml98bI-"
      },
      "execution_count": 25,
      "outputs": []
    },
    {
      "cell_type": "code",
      "source": [
        "check_dge_with_ci(b_cells_expression_data.drop('Cell_type', axis = 1), nk_cells_expression_data.drop('Cell_type', axis = 1)) "
      ],
      "metadata": {
        "id": "qgpr8R3w8iLC"
      },
      "execution_count": null,
      "outputs": []
    },
    {
      "cell_type": "markdown",
      "source": [
        "# Step 3"
      ],
      "metadata": {
        "id": "adhtUjoP8m_6"
      }
    },
    {
      "cell_type": "markdown",
      "source": [
        "Применим для той же задачи z-критерий. Будем считать, что в данном случае 𝛼 = 0.05, и если полученное p-value будет меньше, то экспрессия генов значимо отличается."
      ],
      "metadata": {
        "id": "KPB5mi1e-xcb"
      }
    },
    {
      "cell_type": "code",
      "source": [
        "from statsmodels.stats.weightstats import ztest"
      ],
      "metadata": {
        "id": "lsC6xl5Y-slK"
      },
      "execution_count": 29,
      "outputs": []
    },
    {
      "cell_type": "code",
      "source": [
        "# Наш излюбленный ген\n",
        "ztest(\n",
        "    b_cells_expression_data[example_gene],\n",
        "    nk_cells_expression_data[example_gene]\n",
        ")"
      ],
      "metadata": {
        "colab": {
          "base_uri": "https://localhost:8080/"
        },
        "id": "VC679swy-1dn",
        "outputId": "01b9f082-3bce-4c29-dc09-d4c51fb63dd3"
      },
      "execution_count": 30,
      "outputs": [
        {
          "output_type": "execute_result",
          "data": {
            "text/plain": [
              "(-1.3427434041885127, 0.17935507499860204)"
            ]
          },
          "metadata": {},
          "execution_count": 30
        }
      ]
    },
    {
      "cell_type": "markdown",
      "source": [
        "ФункциЯ, которая принимает на вход две таблицы с экспрессиями и выдает для каждого гена, значимо ли отличается его средняя экспрессия между клеточными типами."
      ],
      "metadata": {
        "id": "6JqrFglE_Dr1"
      }
    },
    {
      "cell_type": "code",
      "source": [
        "def check_dge_with_ztest(first_table, second_table): \n",
        "  z_test_result = []\n",
        "  for col in first_table: \n",
        "    tz = ztest(first_table[col], second_table[col])\n",
        "    if tz[1]<0.05: z_test_result.append(True)\n",
        "    else: z_test_result.append(False)\n",
        "  return z_test_result"
      ],
      "metadata": {
        "id": "oWaE9K3y-2N0"
      },
      "execution_count": 31,
      "outputs": []
    },
    {
      "cell_type": "code",
      "source": [
        "check_dge_with_ztest(b_cells_expression_data.drop('Cell_type', axis = 1), nk_cells_expression_data.drop('Cell_type', axis = 1))"
      ],
      "metadata": {
        "id": "07YqoOzZ-5HR"
      },
      "execution_count": null,
      "outputs": []
    },
    {
      "cell_type": "markdown",
      "source": [
        "# Step 4"
      ],
      "metadata": {
        "id": "D_PIRc9G_UhW"
      }
    },
    {
      "cell_type": "markdown",
      "source": [
        "Программа, которая принимает на вход следующие аргуметры:\n",
        "\n",
        "first_cell_type_expressions_path – путь до таблицы с экспрессиями генов для одного клеточного типа;\n",
        "\n",
        "second_cell_type_expressions_path – путь до таблицы с экспрессиями генов для второго клеточного типа;\n",
        "\n",
        "save_results_table – название таблицы с результатами.\n"
      ],
      "metadata": {
        "id": "EplzE9be_W9p"
      }
    },
    {
      "cell_type": "code",
      "source": [
        "b_cells_expression_data.drop('Cell_type', axis = 1).to_csv('/content/drive/MyDrive/Colab Notebooks/b.csv')\n",
        "nk_cells_expression_data.drop('Cell_type', axis = 1).to_csv('/content/drive/MyDrive/Colab Notebooks/nk.csv')"
      ],
      "metadata": {
        "id": "HxMI1JsE_ndi"
      },
      "execution_count": 33,
      "outputs": []
    },
    {
      "cell_type": "code",
      "source": [
        "first_cell_type_expressions_path = input()\n",
        "second_cell_type_expressions_path = input()\n",
        "save_results_table = input()\n",
        "\n",
        "table_1 = pd.read_csv(first_cell_type_expressions_path, index_col=0)\n",
        "table_2 = pd.read_csv(second_cell_type_expressions_path, index_col=0)\n",
        "\n",
        "ci = check_dge_with_ci(table_1, table_2)\n",
        "z = check_dge_with_ztest(table_1, table_2)\n",
        "\n",
        "results = {\n",
        "    \"ci_test_results\": ci,\n",
        "    \"z_test_results\": z\n",
        "}\n",
        "\n",
        "results = pd.DataFrame(results)\n",
        "results.to_csv(save_results_table)"
      ],
      "metadata": {
        "colab": {
          "base_uri": "https://localhost:8080/"
        },
        "id": "waCOgznV_qhM",
        "outputId": "5609126f-dad0-43a6-e78b-0de602a1446a"
      },
      "execution_count": 35,
      "outputs": [
        {
          "name": "stdout",
          "output_type": "stream",
          "text": [
            "/content/drive/MyDrive/Colab Notebooks/b.csv\n",
            "/content/drive/MyDrive/Colab Notebooks/nk.csv\n",
            "/content/drive/MyDrive/Colab Notebooks/res.csv\n"
          ]
        }
      ]
    }
  ]
}